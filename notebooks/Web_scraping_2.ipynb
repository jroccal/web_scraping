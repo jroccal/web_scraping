{
 "cells": [
  {
   "cell_type": "code",
   "execution_count": 1,
   "id": "09a4b4e2",
   "metadata": {},
   "outputs": [],
   "source": [
    "import os\n",
    "import numpy as np\n",
    "import pandas as pd"
   ]
  },
  {
   "cell_type": "markdown",
   "id": "19b2dc38",
   "metadata": {},
   "source": [
    "## lxml\n"
   ]
  },
  {
   "cell_type": "code",
   "execution_count": 2,
   "id": "26f299fd",
   "metadata": {},
   "outputs": [],
   "source": [
    "from lxml import etree"
   ]
  },
  {
   "cell_type": "code",
   "execution_count": 3,
   "id": "850a10d5",
   "metadata": {},
   "outputs": [],
   "source": [
    "xml = open(\"food.xml\",\"rb\").read()"
   ]
  },
  {
   "cell_type": "code",
   "execution_count": 4,
   "id": "3dc63a23",
   "metadata": {},
   "outputs": [],
   "source": [
    "tree = etree.XML(xml)"
   ]
  },
  {
   "cell_type": "code",
   "execution_count": 5,
   "id": "f91b46e5",
   "metadata": {},
   "outputs": [
    {
     "name": "stdout",
     "output_type": "stream",
     "text": [
      "<Element menus at 0x7efd761440c0> <class 'lxml.etree._Element'>\n"
     ]
    }
   ],
   "source": [
    "print(tree, type(tree))"
   ]
  },
  {
   "cell_type": "code",
   "execution_count": 6,
   "id": "6bfa855b",
   "metadata": {},
   "outputs": [
    {
     "name": "stdout",
     "output_type": "stream",
     "text": [
      "menus - \n",
      "  \n",
      "food - \n",
      "    \n",
      "name - Butter Milk with Vanilla\n",
      "price - $3.99\n",
      "description - Rich tangy buttermilk with vanilla essence\n",
      "rating - 5.0\n",
      "feedback - 6\n",
      "food - \n",
      "    \n",
      "name - Fish and Chips\n",
      "price - $4.99\n",
      "description - Crispy fried Chips and Fish served with lemon and malt vinegar\n",
      "rating - 5.0\n",
      "feedback - 10\n",
      "food - \n",
      "    \n",
      "name - Egg Roll\n",
      "price - $3.99\n",
      "description - Fresh egg rolls filled with ground chicken, carrot, cabbage\n",
      "rating - 4.0\n",
      "feedback - 8\n",
      "food - \n",
      "    \n",
      "name - Pineapple Cake\n",
      "price - $3.99\n",
      "description - Crushed Pineapple mixed with vanilla, eggs and lemon juice\n",
      "rating - 5.0\n",
      "feedback - 9\n",
      "food - \n",
      "    \n",
      "name - Eggs and Bacon\n",
      "price - $5.50\n",
      "description - Served with rice and fresh fruit\n",
      "rating - 4.5\n",
      "feedback - 4\n",
      "food - \n",
      "    \n",
      "name - Orange Juice\n",
      "price - $2.99\n",
      "description - Fresh Orange juice served\n",
      "rating - 4.9\n",
      "feedback - 10\n"
     ]
    }
   ],
   "source": [
    "for element in tree.iter():\n",
    "    print(\"%s - %s\" % (element.tag, element.text)) "
   ]
  },
  {
   "cell_type": "markdown",
   "id": "dcae3160",
   "metadata": {},
   "source": [
    "#### Use parse to open the file to avoid error by header"
   ]
  },
  {
   "cell_type": "code",
   "execution_count": 7,
   "id": "04965c18",
   "metadata": {},
   "outputs": [],
   "source": [
    "tree2 = etree.parse(\"food.xml\")"
   ]
  },
  {
   "cell_type": "code",
   "execution_count": 8,
   "id": "dc42957c",
   "metadata": {},
   "outputs": [
    {
     "name": "stdout",
     "output_type": "stream",
     "text": [
      "Butter Milk with Vanilla\n",
      "Fish and Chips\n",
      "Egg Roll\n",
      "Pineapple Cake\n",
      "Eggs and Bacon\n",
      "Orange Juice\n"
     ]
    }
   ],
   "source": [
    "for element in tree2.iter('name'):\n",
    "    print(element.text) \n"
   ]
  },
  {
   "cell_type": "code",
   "execution_count": 9,
   "id": "e746d400",
   "metadata": {},
   "outputs": [
    {
     "name": "stdout",
     "output_type": "stream",
     "text": [
      "menus - \n",
      "  \n",
      "food - \n",
      "    \n",
      "name - Butter Milk with Vanilla\n",
      "price - $3.99\n",
      "description - Rich tangy buttermilk with vanilla essence\n",
      "rating - 5.0\n",
      "feedback - 6\n",
      "food - \n",
      "    \n",
      "name - Fish and Chips\n",
      "price - $4.99\n",
      "description - Crispy fried Chips and Fish served with lemon and malt vinegar\n",
      "rating - 5.0\n",
      "feedback - 10\n",
      "food - \n",
      "    \n",
      "name - Egg Roll\n",
      "price - $3.99\n",
      "description - Fresh egg rolls filled with ground chicken, carrot, cabbage\n",
      "rating - 4.0\n",
      "feedback - 8\n",
      "food - \n",
      "    \n",
      "name - Pineapple Cake\n",
      "price - $3.99\n",
      "description - Crushed Pineapple mixed with vanilla, eggs and lemon juice\n",
      "rating - 5.0\n",
      "feedback - 9\n",
      "food - \n",
      "    \n",
      "name - Eggs and Bacon\n",
      "price - $5.50\n",
      "description - Served with rice and fresh fruit\n",
      "rating - 4.5\n",
      "feedback - 4\n",
      "food - \n",
      "    \n",
      "name - Orange Juice\n",
      "price - $2.99\n",
      "description - Fresh Orange juice served\n",
      "rating - 4.9\n",
      "feedback - 10\n"
     ]
    }
   ],
   "source": [
    "for element in tree2.iter():\n",
    "    print(\"%s - %s\" % (element.tag, element.text))     "
   ]
  },
  {
   "cell_type": "markdown",
   "id": "ee751618",
   "metadata": {},
   "source": [
    "## Example 2: using HTML files"
   ]
  },
  {
   "cell_type": "code",
   "execution_count": 10,
   "id": "f6ea6820",
   "metadata": {},
   "outputs": [],
   "source": [
    "from lxml import html\n",
    "from urllib.request import urlopen\n"
   ]
  },
  {
   "cell_type": "code",
   "execution_count": 11,
   "id": "6af622e8",
   "metadata": {},
   "outputs": [
    {
     "name": "stdout",
     "output_type": "stream",
     "text": [
      "<class 'lxml.html.HtmlElement'>\n",
      "<class 'lxml.etree._ElementTree'>\n"
     ]
    }
   ],
   "source": [
    "root = html.parse(urlopen('http://httpbin.org/forms/post')).getroot()\n",
    "tree = html.parse(urlopen('http://httpbin.org/forms/post'))\n",
    "\n",
    "print(type(root)) #<class 'lxml.html.HtmlElement'>\n",
    "print(type(tree)) #<class 'lxml.etree._ElementTree'>\n"
   ]
  },
  {
   "cell_type": "code",
   "execution_count": 12,
   "id": "d5b894dc",
   "metadata": {},
   "outputs": [
    {
     "name": "stdout",
     "output_type": "stream",
     "text": [
      "Customer name: \n",
      "Telephone: \n",
      "E-mail address: \n",
      "  Small \n",
      "  Medium \n",
      "  Large \n",
      "  Bacon \n",
      "  Extra Cheese \n",
      "  Onion \n",
      "  Mushroom \n",
      "Preferred delivery time: \n",
      "Delivery instructions: \n",
      "Submit order\n"
     ]
    }
   ],
   "source": [
    "elemP = root.findall('.//p') #find all <p> element from root\n",
    "for p in elemP:\n",
    "    print(p.text_content()) \n"
   ]
  },
  {
   "cell_type": "code",
   "execution_count": null,
   "id": "fc74e9a6",
   "metadata": {},
   "outputs": [],
   "source": []
  }
 ],
 "metadata": {
  "kernelspec": {
   "display_name": "Python 3 (ipykernel)",
   "language": "python",
   "name": "python3"
  },
  "language_info": {
   "codemirror_mode": {
    "name": "ipython",
    "version": 3
   },
   "file_extension": ".py",
   "mimetype": "text/x-python",
   "name": "python",
   "nbconvert_exporter": "python",
   "pygments_lexer": "ipython3",
   "version": "3.10.6"
  }
 },
 "nbformat": 4,
 "nbformat_minor": 5
}
