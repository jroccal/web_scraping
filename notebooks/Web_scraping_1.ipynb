{
 "cells": [
  {
   "cell_type": "code",
   "execution_count": 1,
   "id": "c7779f55",
   "metadata": {},
   "outputs": [],
   "source": [
    "## Using requests and urllib"
   ]
  },
  {
   "cell_type": "code",
   "execution_count": 1,
   "id": "c611fe92",
   "metadata": {},
   "outputs": [],
   "source": [
    "import os\n",
    "import numpy as np\n",
    "import pandas as pd"
   ]
  },
  {
   "cell_type": "code",
   "execution_count": 2,
   "id": "c9048d7b",
   "metadata": {},
   "outputs": [],
   "source": [
    "import urllib\n",
    "import requests"
   ]
  },
  {
   "cell_type": "code",
   "execution_count": 3,
   "id": "9ba32d0f",
   "metadata": {},
   "outputs": [],
   "source": [
    "from urllib import request as req\n",
    "import urllib.error as error\n",
    "import urllib.parse as urlparse\n",
    "import urllib.robotparser as robot\n"
   ]
  },
  {
   "cell_type": "markdown",
   "id": "d1db3539",
   "metadata": {},
   "source": [
    "## urllib"
   ]
  },
  {
   "cell_type": "code",
   "execution_count": 4,
   "id": "34be7777",
   "metadata": {},
   "outputs": [],
   "source": [
    "## Loading URLs\n",
    "link = \"https://en.wikipedia.org/wiki/List_of_most_popular_websites\""
   ]
  },
  {
   "cell_type": "code",
   "execution_count": 5,
   "id": "081bc5b7",
   "metadata": {},
   "outputs": [],
   "source": [
    "response = req.urlopen(link)"
   ]
  },
  {
   "cell_type": "code",
   "execution_count": 6,
   "id": "89436a8a",
   "metadata": {},
   "outputs": [
    {
     "data": {
      "text/plain": [
       "http.client.HTTPResponse"
      ]
     },
     "execution_count": 6,
     "metadata": {},
     "output_type": "execute_result"
    }
   ],
   "source": [
    "type(response)"
   ]
  },
  {
   "cell_type": "code",
   "execution_count": 7,
   "id": "01c4d818",
   "metadata": {},
   "outputs": [
    {
     "data": {
      "text/plain": [
       "b'<!DOCTYPE html>\\n<html class=\"client-nojs\" lang=\"en\" dir=\"ltr\">\\n<head>\\n<meta charset=\"UTF-8\"/>\\n<title'"
      ]
     },
     "execution_count": 7,
     "metadata": {},
     "output_type": "execute_result"
    }
   ],
   "source": [
    "response_value = response.read()\n",
    "response_value[0:100]"
   ]
  },
  {
   "cell_type": "code",
   "execution_count": 9,
   "id": "b00876b9",
   "metadata": {},
   "outputs": [
    {
     "name": "stdout",
     "output_type": "stream",
     "text": [
      "200\n",
      "\n",
      " https://en.wikipedia.org/wiki/List_of_most_popular_websites\n",
      "\n",
      " 24 ('date', 'Sat, 12 Nov 2022 09:51:40 GMT')\n",
      "\n",
      " Sat, 12 Nov 2022 09:51:40 GMT\n",
      "\n",
      " 200\n",
      "\n",
      " GET\n",
      "\n",
      " <\n"
     ]
    }
   ],
   "source": [
    "print(response.getcode())\n",
    "print('\\n',response.geturl())\n",
    "print('\\n',len(response.getheaders()), response.getheaders()[0][0:100])\n",
    "print('\\n',response.getheader('date'))\n",
    "print('\\n',response.code)\n",
    "print('\\n',response._method)\n",
    "string = response_value.decode()\n",
    "print('\\n',string[0])      \n"
   ]
  },
  {
   "cell_type": "code",
   "execution_count": 10,
   "id": "d4738a06",
   "metadata": {},
   "outputs": [
    {
     "name": "stdout",
     "output_type": "stream",
     "text": [
      "<urlopen error [Errno -2] Name or service not known>\n"
     ]
    }
   ],
   "source": [
    "## using urlerror\n",
    "try:\n",
    "    req.urlopen(\"https://www.python.ogr\")\n",
    "except error.URLError as e:\n",
    "    print(e)"
   ]
  },
  {
   "cell_type": "code",
   "execution_count": 11,
   "id": "0bd3ba51",
   "metadata": {},
   "outputs": [
    {
     "name": "stdout",
     "output_type": "stream",
     "text": [
      "SplitResult(scheme='https', netloc='en.wikipedia.org', path='/wiki/List_of_most_popular_websites', query='', fragment='')\n",
      "\n",
      " en.wikipedia.org\n",
      "\n",
      " ParseResult(scheme='https', netloc='en.wikipedia.org', path='/wiki/List_of_most_popular_websites', params='', query='', fragment='')\n",
      "\n",
      " b'param1=value1&param2=value2'\n",
      "\n",
      " https%3A//en.wikipedia.org/wiki/List_of_most_popular_websites\n",
      "\n",
      " https://en.wikipedia.org/wiki/List_of_most_popular_websites\n",
      "\n",
      " https%3A%2F%2Fen.wikipedia.org%2Fwiki%2FList_of_most_popular_websites\n",
      "\n",
      " http://localhost:8080/~cache/data_file\n"
     ]
    }
   ],
   "source": [
    "##using urlparse\n",
    "print(urlparse.urlsplit(link))\n",
    "print('\\n', urlparse.urlsplit(link).netloc)\n",
    "print('\\n', urlparse.urlparse(link))\n",
    "\n",
    "data = {'param1': 'value1', 'param2': 'value2'}\n",
    "print('\\n', urlparse.urlencode(data).encode('utf-8'))\n",
    "print('\\n',  urlparse.quote(link) )\n",
    "print('\\n',  urlparse.unquote(link) )\n",
    "print('\\n',  urlparse.quote_plus(link) )\n",
    "print('\\n', urlparse.urljoin('http://localhost:8080/~cache/','data_file')) "
   ]
  },
  {
   "cell_type": "code",
   "execution_count": 12,
   "id": "b59e8f5b",
   "metadata": {},
   "outputs": [
    {
     "name": "stdout",
     "output_type": "stream",
     "text": [
      "User-agent: *\n",
      "Disallow: /catalog/search/\n",
      "Disallow: /s/\n",
      "Disallow: %2ASCDC%3D1%2A\n",
      "Disallow: /%2A%3Fbvroute\n",
      "Disallow: /list/\n",
      "Disallow: %2A/samsclub/0\n",
      "Disallow: /catalog/product/\n",
      "Disallow: /catalog/productreviews/\n",
      "Disallow: /locator%3FreturnRoute\n",
      "Disallow: /myinstantsavings/details/\n",
      "Disallow: /sams/subscription/\n",
      "Disallow: /account/\n",
      "Allow: /sams/account/referal/\n",
      "Allow: /sams/account/signin/login.jsp\n",
      "Allow: /sams/account/signin/createSession.jsp\n",
      "Allow: /sams/account/registration/registration.jsp\n",
      "Allow: /sams/account/membership/renewMembership.jsp\n",
      "Disallow: /managepreferences/\n",
      "Disallow: /checkout/\n",
      "Disallow: /cart/\n",
      "Disallow: /search/\n",
      "Disallow: /pharmacy/login/\n",
      "Disallow: /cgi-bin/\n",
      "Disallow: /friend\n",
      "True\n",
      "True\n",
      "False\n"
     ]
    }
   ],
   "source": [
    "## robotparser\n",
    "par = robot.RobotFileParser()\n",
    "par.set_url('https://www.samsclub.com/robots.txt')\n",
    "par.read()\n",
    "print(par)\n",
    "print(par.can_fetch('*','https://www.samsclub.com/referal')) #Allow\n",
    "print(par.can_fetch('*','https://www.samsclub.com/category')) #Allow\n",
    "print(par.can_fetch('*','https://www.samsclub.com/friend')) #Disallow"
   ]
  },
  {
   "cell_type": "markdown",
   "id": "eb4fb5d3",
   "metadata": {},
   "source": [
    "However, there are some limitations to using urllib.request. Connection-based delays\n",
    "can occur while using functions like urlopen() and urlretrieve(). These functions\n",
    "return raw data and need to be converted into the required type for the parser before\n",
    "they can be used in the scraping process. \n",
    "\n",
    "*Deploying threads, or threading, is considered an effective technique when dealing\n",
    "with HTTP requests and responses.*"
   ]
  },
  {
   "cell_type": "markdown",
   "id": "df62bde7",
   "metadata": {},
   "source": [
    "# requests\n",
    "\n",
    "#### Capabilities\n",
    "* Short, simple, and readable functions and attributes \n",
    "* Access to various HTTP methods (GET, POST, and PUT, to name a few) \n",
    "* Gets rid of manual actions, like encoding form values \n",
    "* Processes query strings \n",
    "* Custom headers \n",
    "* Session and cookie processing \n",
    "* Deals with JSON requests and content \n",
    "* Proxy settings \n",
    "* Deploys encoding and compliance \n",
    "* API-based link headers \n",
    "* Raw socket response \n",
    "* Timeouts and more... \n"
   ]
  },
  {
   "cell_type": "code",
   "execution_count": 27,
   "id": "8985580f",
   "metadata": {},
   "outputs": [],
   "source": []
  },
  {
   "cell_type": "code",
   "execution_count": 13,
   "id": "fc2d838b",
   "metadata": {},
   "outputs": [
    {
     "name": "stdout",
     "output_type": "stream",
     "text": [
      "\n",
      " <Response [200]> <class 'requests.models.Response'>\n",
      "\n",
      " http://www.python-requests.org/\n",
      "\n",
      " 200\n",
      "\n",
      " []\n",
      "\n",
      " {'Date': 'Sat, 12 Nov 2022 21:53:19 GMT', 'Server': 'Apache', 'X-Powered-By': 'PHP/7.2.10-0ubuntu0.18.04.1', 'Set-Cookie': 'PHPSESSID=714d3321dbd5535f2b905dfda53f70a3; path=/, SERVERID=s5; path=/', 'Expires': 'Thu, 19 Nov 1981 08:52:00 GMT', 'Cache-Control': 'no-store, no-cache, must-revalidate', 'Pragma': 'no-cache', 'Content-Length': '2694', 'Content-Type': 'text/html; charset=UTF-8'}\n",
      "\n",
      " text/html; charset=UTF-8\n",
      "\n",
      " {'User-Agent': 'python-requests/2.28.1', 'Accept-Encoding': 'gzip, deflate, br', 'Accept': '*/*', 'Connection': 'keep-alive'}\n",
      "\n",
      " UTF-8\n",
      "\n",
      " b'\\n<html>\\n<head>\\n\\t<title>Domain Suspension</title>\\n\\t<meta http-equiv=\"Content-Type\" content=\"text/html'\n"
     ]
    }
   ],
   "source": [
    "link=\"http://www.python-requests.org\"\n",
    "r = requests.get(link)\n",
    "\n",
    "print('\\n', r, type(r))\n",
    "print('\\n', r.url)\n",
    "print('\\n', r.status_code)\n",
    "print('\\n', r.history)\n",
    "print('\\n', r.headers)\n",
    "print('\\n', r.headers['Content-Type'])\n",
    "print('\\n', r.request.headers)\n",
    "print('\\n', r.encoding)\n",
    "print('\\n', r.content[0:100])"
   ]
  },
  {
   "cell_type": "code",
   "execution_count": 14,
   "id": "a785fb5b",
   "metadata": {},
   "outputs": [],
   "source": [
    "# returns a raw socket response from the server \n",
    "link=\"http://www.python-requests.org\"\n",
    "r = requests.get(link, stream=True)\n"
   ]
  },
  {
   "cell_type": "code",
   "execution_count": 15,
   "id": "5220e801",
   "metadata": {},
   "outputs": [
    {
     "name": "stdout",
     "output_type": "stream",
     "text": [
      "\n",
      " <class 'urllib3.response.HTTPResponse'> \n",
      " b'\\n<html>\\n<head>\\n\\t<title>Domain Suspension</title>\\n\\t<meta http-equiv=\"Content-Type\" content=\"text/html'\n"
     ]
    }
   ],
   "source": [
    "print('\\n', type(r.raw), '\\n', r.raw.read(100))"
   ]
  },
  {
   "cell_type": "code",
   "execution_count": 16,
   "id": "a30cd9f2",
   "metadata": {},
   "outputs": [
    {
     "name": "stdout",
     "output_type": "stream",
     "text": [
      "dict_keys(['executionTime', 'stationBeanList'])\n"
     ]
    }
   ],
   "source": [
    "## Deal with json\n",
    "link = \"https://feeds.citibikenyc.com/stations/stations.json\"\n",
    "\n",
    "r = requests.get(link).json()\n",
    "print(r.keys())"
   ]
  },
  {
   "cell_type": "markdown",
   "id": "02764981",
   "metadata": {},
   "source": [
    "#### Implementing HTTP methods: GET and POS\n",
    "\n",
    "Generally, web-based interaction or communication between the web page and the\n",
    "user or reader is achieved as follows: \n",
    "\n",
    "* The user or reader can access the web page to read or navigate through information that's presented to them \n",
    "* The user or reader can also submit certain information to the web page using the HTML form, such as by searching, logging in, user registration, password recovery, and so on \n",
    "\n",
    "In this section, we will be using the requests Python library to implement common\n",
    "HTTP methods (GET and POST) that execute the HTTP-based communication scenario we\n",
    "listed previously. \n",
    "\n",
    "* **GET**: A command way to request information is to use safe methods since the **resource state is not altered**. The GET parameters, also known as query strings, are visible in the URL. They are appended to the URL using `?` and are available as `key=value` pairs. \n",
    "\n",
    "* **POST**: These are known as secure requests that are made to a source. The requested **resource state can be altered**. Data that's posted or sent to the requested URL is not visible in the URL; instead, it's transferred to the request body. A request that's made using POST isn't cached or bookmarked and has no restrictions in terms of length. \n",
    "\n"
   ]
  },
  {
   "cell_type": "code",
   "execution_count": 17,
   "id": "1cfa46c2",
   "metadata": {},
   "outputs": [
    {
     "name": "stdout",
     "output_type": "stream",
     "text": [
      "http://localhost:8888/~cache?id=123456&display=yes\n"
     ]
    }
   ],
   "source": [
    "## request with parameters and headers\n",
    "## GET\n",
    "link=\"http://localhost:8888/~cache\"\n",
    "queries= {'id':'123456','display':'yes'}\n",
    "addedheaders={'user-agent':''}\n",
    "r = requests.get(link, params=queries, headers=addedheaders) \n",
    "print(r.url)"
   ]
  },
  {
   "cell_type": "code",
   "execution_count": 18,
   "id": "d79b7c92",
   "metadata": {},
   "outputs": [
    {
     "name": "stdout",
     "output_type": "stream",
     "text": [
      "{'args': {}, 'data': '', 'files': {}, 'form': {'comments': 'None', 'custemail': 'abc@somedomain.com', 'custname': 'Mr. ABC', 'custtel': '', 'delivery': '13:00', 'size': 'small', 'topping': ['cheese', 'mushroom']}, 'headers': {'Accept': 'text/html,application/xhtml+xml,application/xml;q=0.9,image/webp,image/apng,*/*;q=0.8', 'Accept-Encoding': 'gzip, deflate, br', 'Content-Length': '130', 'Content-Type': 'application/x-www-form-urlencoded', 'Host': 'httpbin.org', 'Referer': 'http://httpbin.org/forms/post', 'User-Agent': 'python-requests/2.28.1', 'X-Amzn-Trace-Id': 'Root=1-63701605-724801a86d6fad350fc51e34'}, 'json': None, 'origin': '200.233.44.71', 'url': 'http://httpbin.org/post'}\n"
     ]
    }
   ],
   "source": [
    "## POST\n",
    "pageUrl=\"http://httpbin.org/forms/post\"\n",
    "postUrl=\"http://httpbin.org/post\"\n",
    "\n",
    "params = {'custname':'Mr. ABC', 'custtel':'', 'custemail':'abc@somedomain.com',\n",
    "          'size':'small','topping':['cheese','mushroom'],\n",
    "          'delivery':'13:00','comments':'None'}\n",
    "\n",
    "headers={ 'Accept':'text/html,application/xhtml+xml,application/xml;q=0.9,image/webp,image/apng,*/*;q=0.8',\n",
    "         'Content-Type':'application/x-www-form-urlencoded','Referer':pageUrl}\n",
    "\n",
    "response = requests.post(postUrl, \n",
    "                         data=params,\n",
    "                         headers=headers).json()\n",
    "print(response)"
   ]
  },
  {
   "cell_type": "code",
   "execution_count": null,
   "id": "9c96f205",
   "metadata": {},
   "outputs": [],
   "source": []
  },
  {
   "cell_type": "markdown",
   "id": "78634a19",
   "metadata": {},
   "source": [
    "## Others examples"
   ]
  },
  {
   "cell_type": "code",
   "execution_count": 19,
   "id": "296ec508",
   "metadata": {},
   "outputs": [
    {
     "data": {
      "text/plain": [
       "<Response [404]>"
      ]
     },
     "execution_count": 19,
     "metadata": {},
     "output_type": "execute_result"
    }
   ],
   "source": [
    "response_from_requests = requests.get(link)\n",
    "response_from_requests"
   ]
  },
  {
   "cell_type": "code",
   "execution_count": 20,
   "id": "56e1f544",
   "metadata": {},
   "outputs": [
    {
     "data": {
      "text/plain": [
       "bytes"
      ]
     },
     "execution_count": 20,
     "metadata": {},
     "output_type": "execute_result"
    }
   ],
   "source": [
    "type(response_from_requests.content)"
   ]
  },
  {
   "cell_type": "code",
   "execution_count": 21,
   "id": "a342664d",
   "metadata": {},
   "outputs": [
    {
     "data": {
      "text/plain": [
       "str"
      ]
     },
     "execution_count": 21,
     "metadata": {},
     "output_type": "execute_result"
    }
   ],
   "source": [
    "## use decode to convert bytes to str\n",
    "type(response_from_requests.content.decode())"
   ]
  },
  {
   "cell_type": "code",
   "execution_count": 22,
   "id": "69d1b116",
   "metadata": {},
   "outputs": [
    {
     "data": {
      "text/plain": [
       "b'<!DOCTYPE HTML>\\n<html>\\n\\n<head>\\n    <meta charset=\"utf-8\">\\n\\n    <title>Jupyter Notebook</title>\\n    <'"
      ]
     },
     "execution_count": 22,
     "metadata": {},
     "output_type": "execute_result"
    }
   ],
   "source": [
    "response_from_requests.content[0:100]"
   ]
  },
  {
   "cell_type": "markdown",
   "id": "1214f63e",
   "metadata": {},
   "source": [
    "### Save in local store the web content "
   ]
  },
  {
   "cell_type": "code",
   "execution_count": 23,
   "id": "d7971dd1",
   "metadata": {},
   "outputs": [
    {
     "data": {
      "text/plain": [
       "('/tmp/tmpkkbl_p8h', <http.client.HTTPMessage at 0x7fa63ec3a1a0>)"
      ]
     },
     "execution_count": 23,
     "metadata": {},
     "output_type": "execute_result"
    }
   ],
   "source": [
    "link_2 = 'https://www.samsclub.com/robots.txt'\n",
    "#download the file content in the file /tmp/tmpfile\n",
    "req.urlretrieve(link_2)"
   ]
  },
  {
   "cell_type": "code",
   "execution_count": 24,
   "id": "2b5f6b43",
   "metadata": {},
   "outputs": [
    {
     "data": {
      "text/plain": [
       "('file_to_save_content_link_3.txt',\n",
       " <http.client.HTTPMessage at 0x7fa63ef03040>)"
      ]
     },
     "execution_count": 24,
     "metadata": {},
     "output_type": "execute_result"
    }
   ],
   "source": [
    "link_3 = 'https://www.samsclub.com/robots.txt'\n",
    "#download the current directory with specified file name\n",
    "req.urlretrieve(link_3, 'file_to_save_content_link_3.txt')"
   ]
  },
  {
   "cell_type": "code",
   "execution_count": 23,
   "id": "fe08e53c",
   "metadata": {},
   "outputs": [],
   "source": [
    "## another method\n",
    "link=\"https://www.samsclub.com/sitemap.xml\"\n",
    "content = requests.get(link).content\n",
    "file = open(os.getcwd()+os.sep+os.sep+os.sep+\"sitemap.xml\",\"wb\")\n",
    "file.write(content)\n",
    "file.close()"
   ]
  },
  {
   "cell_type": "code",
   "execution_count": null,
   "id": "a85eaf06",
   "metadata": {},
   "outputs": [],
   "source": []
  }
 ],
 "metadata": {
  "kernelspec": {
   "display_name": "Python 3 (ipykernel)",
   "language": "python",
   "name": "python3"
  },
  "language_info": {
   "codemirror_mode": {
    "name": "ipython",
    "version": 3
   },
   "file_extension": ".py",
   "mimetype": "text/x-python",
   "name": "python",
   "nbconvert_exporter": "python",
   "pygments_lexer": "ipython3",
   "version": "3.10.6"
  }
 },
 "nbformat": 4,
 "nbformat_minor": 5
}
